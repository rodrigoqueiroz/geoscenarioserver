{
 "cells": [
  {
   "cell_type": "markdown",
   "metadata": {},
   "source": [
    "# Locating the occupied lanelets using GeoScenario Library"
   ]
  },
  {
   "cell_type": "code",
   "execution_count": 25,
   "metadata": {},
   "outputs": [],
   "source": [
    "# add GeoScenarioserver repo directory to path\n",
    "import sys\n",
    "sys.path.append(\"/home/jinwei/workspace/geoscenarioserver/\")\n",
    "\n",
    "from mapping.LaneletMap import LaneletMap\n",
    "\n",
    "# import lanelet2 related objects\n",
    "import numpy as np\n",
    "import lanelet2\n",
    "from lanelet2.projection import LocalCartesianProjector\n",
    "from lanelet2.io import Origin\n",
    "from lanelet2.core import GPSPoint, BasicPoint3d\n",
    "from lanelet2.geometry import length2d"
   ]
  },
  {
   "cell_type": "code",
   "execution_count": 3,
   "metadata": {},
   "outputs": [
    {
     "name": "stderr",
     "output_type": "stream",
     "text": [
      "I1003 01:48:48.182351 43842 LaneletMap.py:41] Setting circular references for RightOfWay 50009\n",
      "I1003 01:48:48.183480 43842 LaneletMap.py:41] Setting circular references for RightOfWay 50008\n",
      "I1003 01:48:48.183802 43842 LaneletMap.py:41] Setting circular references for RightOfWay 50007\n",
      "I1003 01:48:48.184119 43842 LaneletMap.py:41] Setting circular references for RightOfWay 50006\n",
      "I1003 01:48:48.184458 43842 LaneletMap.py:41] Setting circular references for RightOfWay 50005\n",
      "I1003 01:48:48.184735 43842 LaneletMap.py:41] Setting circular references for RightOfWay 50004\n",
      "I1003 01:48:48.185042 43842 LaneletMap.py:41] Setting circular references for RightOfWay 50003\n",
      "I1003 01:48:48.185519 43842 LaneletMap.py:41] Setting circular references for RightOfWay 50002\n",
      "I1003 01:48:48.185959 43842 LaneletMap.py:41] Setting circular references for RightOfWay 50001\n"
     ]
    }
   ],
   "source": [
    "MapObject = LaneletMap()\n",
    "projector = LocalCartesianProjector(Origin(0,0))\n",
    "# MapObject.load_lanelet_map('/home/jinwei/workspace/geoscenarioserver/scenarios/maps/interaction_maps/DR_Roundabout_RW.osm', projector)\n",
    "MapObject.load_lanelet_map('/home/jinwei/workspace/geoscenarioserver/scenarios/maps/interaction_maps_EXT/DR_USA_Intersection_GL_EXT.osm', projector)"
   ]
  },
  {
   "cell_type": "code",
   "execution_count": 4,
   "metadata": {},
   "outputs": [],
   "source": [
    "def get_fixed_destination(map_object, x, y, tolerance=0.2):\n",
    "\n",
    "    bb_list = [[x-tolerance, y-tolerance], [x-tolerance, y+tolerance], [x+tolerance, y+tolerance], [x+tolerance, y-tolerance]]\n",
    "    for bb in bb_list:\n",
    "        occupied_lanelets = map_object.get_all_occupying_lanelets(bb[0], bb[1])\n",
    "        if len(occupied_lanelets) > 0:\n",
    "            return bb[0], bb[1]\n",
    "    return None"
   ]
  },
  {
   "cell_type": "code",
   "execution_count": 8,
   "metadata": {},
   "outputs": [
    {
     "name": "stdout",
     "output_type": "stream",
     "text": [
      "986.5912351208067 991.3868381965174\n",
      "[30019, 30067, 30059, 30042]\n"
     ]
    }
   ],
   "source": [
    "# # example 1.1; only be occupied by Lanelet 30014;\n",
    "# lat = 0.009202\n",
    "# lon = 0.0089362\n",
    "\n",
    "# # example 1.2; only be occupied by Lanelet 30013 and 30014;\n",
    "# lat = 0.0091758\n",
    "# lon = 0.008934\n",
    "\n",
    "# # example 1.3; little triangle area with no lanelet occupied.\n",
    "# lat = 0.0090830\n",
    "# lon = 0.0087459\n",
    "\n",
    "lat = 0.0089658\n",
    "lon = 0.0088627\n",
    "\n",
    "ele = 0\n",
    "utm_point = projector.forward(GPSPoint(lat, lon, ele))\n",
    "print(utm_point.x, utm_point.y)\n",
    "occupied_lanelets = MapObject.get_all_occupying_lanelets(utm_point.x, utm_point.y)\n",
    "print([ll.id for ll in occupied_lanelets])"
   ]
  },
  {
   "cell_type": "code",
   "execution_count": 9,
   "metadata": {},
   "outputs": [],
   "source": [
    "# create a routing graph\n",
    "traffic_rules = lanelet2.traffic_rules.create(lanelet2.traffic_rules.Locations.Germany,\n",
    "                                                lanelet2.traffic_rules.Participants.Vehicle)\n",
    "graph = lanelet2.routing.RoutingGraph(MapObject.lanelet_map, traffic_rules)"
   ]
  },
  {
   "cell_type": "code",
   "execution_count": 7,
   "metadata": {},
   "outputs": [
    {
     "ename": "IndexError",
     "evalue": "list index out of range",
     "output_type": "error",
     "traceback": [
      "\u001b[0;31m---------------------------------------------------------------------------\u001b[0m",
      "\u001b[0;31mIndexError\u001b[0m                                Traceback (most recent call last)",
      "Cell \u001b[0;32mIn[7], line 2\u001b[0m\n\u001b[1;32m      1\u001b[0m \u001b[39m# temporarily set the current lanelet as the first occupied lanelet\u001b[39;00m\n\u001b[0;32m----> 2\u001b[0m current_lanelet \u001b[39m=\u001b[39m occupied_lanelets[\u001b[39m0\u001b[39;49m]\n\u001b[1;32m      3\u001b[0m reachable_lanelet_list \u001b[39m=\u001b[39m graph\u001b[39m.\u001b[39mreachableSet(current_lanelet, \u001b[39m1000\u001b[39m, \u001b[39m0\u001b[39m)\n\u001b[1;32m      4\u001b[0m long_ll_list \u001b[39m=\u001b[39m []\n",
      "\u001b[0;31mIndexError\u001b[0m: list index out of range"
     ]
    }
   ],
   "source": [
    "# temporarily set the current lanelet as the first occupied lanelet\n",
    "current_lanelet = occupied_lanelets[0]\n",
    "reachable_lanelet_list = graph.reachableSet(current_lanelet, 1000, 0)\n",
    "long_ll_list = []\n",
    "for lanelet in reachable_lanelet_list:\n",
    "    if length2d(lanelet) > 50:\n",
    "        long_ll_list.append(lanelet)\n",
    "\n",
    "# temporary set the first lanelet as the chosen destination one.\n",
    "assert len(long_ll_list) > 0\n",
    "final_lanelet = long_ll_list[0]\n",
    "print(final_lanelet.id)\n",
    "\n",
    "# validate that there is a path from the current lanelet to the destination\n",
    "route = graph.getRoute(current_lanelet, final_lanelet)\n",
    "assert type(route) != None\n",
    "\n",
    "# get the final point of the center line of the destination lanelet\n",
    "x = final_lanelet.centerline[-1].x\n",
    "y = final_lanelet.centerline[-1].y\n",
    "z = 0\n",
    "# validate that the final point is in the destination lanelet\n",
    "# Sometimes the final point is at the edge of the lanelet, and it would be counted outside of the lanelet as the type of float.\n",
    "final_x, final_y = get_fixed_destination(MapObject, x, y)\n",
    "print(final_x, final_y)\n",
    "print(\"The lon/lat of the destination point are: \" + str(projector.reverse(BasicPoint3d(final_x, final_y, z))))\n",
    "dest_occupied_lanelets = MapObject.get_all_occupying_lanelets(final_x, final_y)\n",
    "assert dest_occupied_lanelets[0].id == final_lanelet.id"
   ]
  },
  {
   "cell_type": "code",
   "execution_count": 10,
   "metadata": {},
   "outputs": [
    {
     "name": "stdout",
     "output_type": "stream",
     "text": [
      "986.5912351208067 991.3868381965174\n",
      "[30019, 30067, 30059, 30042]\n"
     ]
    }
   ],
   "source": [
    "lat = 0.0089658\n",
    "lon = 0.0088627\n",
    "\n",
    "ele = 0\n",
    "utm_point = projector.forward(GPSPoint(lat, lon, ele))\n",
    "print(utm_point.x, utm_point.y)\n",
    "occupied_lanelets = MapObject.get_all_occupying_lanelets(utm_point.x, utm_point.y)\n",
    "print([ll.id for ll in occupied_lanelets])"
   ]
  },
  {
   "cell_type": "code",
   "execution_count": 46,
   "metadata": {},
   "outputs": [
    {
     "name": "stdout",
     "output_type": "stream",
     "text": [
      "124.82837136709264\n"
     ]
    }
   ],
   "source": [
    "current_lanelet = occupied_lanelets[1]\n",
    "\n",
    "def get_lanelet_heading_angle(lanelet, x, y):\n",
    "    centerline_x = [pt.x for pt in lanelet.centerline]\n",
    "    centerline_y = [pt.y for pt in lanelet.centerline]\n",
    "    # find the closest point on the centerline to the occupied point\n",
    "    closest_centerline_index = int(np.argmin(np.linalg.norm(np.array([centerline_x, centerline_y]).T - np.array([utm_point.x, utm_point.y]), axis=1)))\n",
    "    # get the yaw angle of the current lanelet at the closest point in the unit of degree\n",
    "    assert len(centerline_x) == len(centerline_y) and len(centerline_x) > 1\n",
    "    if closest_centerline_index == 0:\n",
    "        yaw = np.arctan2(centerline_y[1]-centerline_y[0], centerline_x[1]-centerline_x[0])\n",
    "    elif closest_centerline_index == len(centerline_x)-1:\n",
    "        yaw = np.arctan2(centerline_y[-1]-centerline_y[-2], centerline_x[-1]-centerline_x[-2])\n",
    "    else:\n",
    "        yaw = np.arctan2(centerline_y[closest_centerline_index+1]-centerline_y[closest_centerline_index-1], centerline_x[closest_centerline_index+1]-centerline_x[closest_centerline_index-1])\n",
    "    yaw = -1* yaw * 180 / np.pi\n",
    "    print(yaw)"
   ]
  },
  {
   "cell_type": "code",
   "execution_count": 44,
   "metadata": {},
   "outputs": [
    {
     "data": {
      "text/plain": [
       "0.7853981633974483"
      ]
     },
     "execution_count": 44,
     "metadata": {},
     "output_type": "execute_result"
    }
   ],
   "source": [
    "np.arctan2(1,1)"
   ]
  },
  {
   "cell_type": "code",
   "execution_count": 30,
   "metadata": {},
   "outputs": [
    {
     "name": "stdout",
     "output_type": "stream",
     "text": [
      "9\n"
     ]
    },
    {
     "data": {
      "image/png": "[encoded data removed]",
      "text/plain": [
       "<Figure size 640x480 with 1 Axes>"
      ]
     },
     "metadata": {},
     "output_type": "display_data"
    }
   ],
   "source": [
    "import matplotlib.pyplot as plt\n",
    "plt.plot(centerline_x, centerline_y, 'r-*')\n",
    "plt.plot(utm_point.x, utm_point.y, 'bo')\n",
    "print(closest_centerline_index)"
   ]
  },
  {
   "cell_type": "code",
   "execution_count": null,
   "metadata": {},
   "outputs": [],
   "source": []
  }
 ],
 "metadata": {
  "kernelspec": {
   "display_name": "Python 3",
   "language": "python",
   "name": "python3"
  },
  "language_info": {
   "codemirror_mode": {
    "name": "ipython",
    "version": 3
   },
   "file_extension": ".py",
   "mimetype": "text/x-python",
   "name": "python",
   "nbconvert_exporter": "python",
   "pygments_lexer": "ipython3",
   "version": "3.8.10"
  },
  "orig_nbformat": 4
 },
 "nbformat": 4,
 "nbformat_minor": 2
}
