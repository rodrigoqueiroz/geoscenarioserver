{
 "cells": [
  {
   "cell_type": "markdown",
   "metadata": {},
   "source": [
    "# Locating the occupied lanelets using GeoScenario Library"
   ]
  },
  {
   "cell_type": "code",
   "execution_count": 39,
   "metadata": {},
   "outputs": [],
   "source": [
    "# add GeoScenarioserver repo directory to path\n",
    "import sys\n",
    "sys.path.append(\"/home/jinwei/workspace/geoscenarioserver/\")\n",
    "# importing GSS LaneletMap class\n",
    "from mapping.LaneletMap import LaneletMap\n",
    "\n",
    "# import lanelet2 related objects\n",
    "import lanelet2\n",
    "from lanelet2.projection import UtmProjector, LocalCartesianProjector\n",
    "from lanelet2.io import Origin\n",
    "from lanelet2.core import BasicPoint2d, GPSPoint, BasicPoint3d\n",
    "from lanelet2.geometry import length2d"
   ]
  },
  {
   "cell_type": "markdown",
   "metadata": {},
   "source": [
    "## Load map and projector\n",
    "For Henry: the projector seems like to be mandatory using GSS map loader"
   ]
  },
  {
   "cell_type": "code",
   "execution_count": 4,
   "metadata": {},
   "outputs": [
    {
     "name": "stderr",
     "output_type": "stream",
     "text": [
      "I0907 16:19:40.318965 75260 LaneletMap.py:41] Setting circular references for RightOfWay 50004\n",
      "I0907 16:19:40.320354 75260 LaneletMap.py:41] Setting circular references for RightOfWay 50003\n",
      "I0907 16:19:40.321178 75260 LaneletMap.py:41] Setting circular references for RightOfWay 50002\n",
      "I0907 16:19:40.321649 75260 LaneletMap.py:46] Added to lanelet 30019\n",
      "I0907 16:19:40.321891 75260 LaneletMap.py:41] Setting circular references for RightOfWay 50001\n"
     ]
    }
   ],
   "source": [
    "MapObject = LaneletMap()\n",
    "projector = LocalCartesianProjector(Origin(0,0))\n",
    "MapObject.load_lanelet_map('/home/jinwei/workspace/geoscenarioserver/scenarios/maps/interaction_maps/DR_Roundabout_RW.osm', projector)"
   ]
  },
  {
   "cell_type": "markdown",
   "metadata": {},
   "source": [
    "## Example 1: find occupied lanelet by GPS coordinate"
   ]
  },
  {
   "cell_type": "code",
   "execution_count": 32,
   "metadata": {},
   "outputs": [
    {
     "name": "stdout",
     "output_type": "stream",
     "text": [
      "[]\n"
     ]
    }
   ],
   "source": [
    "# # example 1.1; only be occupied by Lanelet 30014;\n",
    "# lat = 0.009202\n",
    "# lon = 0.0089362\n",
    "\n",
    "# # example 1.2; only be occupied by Lanelet 30013 and 30014;\n",
    "# lat = 0.0091758\n",
    "# lon = 0.008934\n",
    "\n",
    "# example 1.3; little triangle area with no lanelet occupied.\n",
    "lat = 0.0090830\n",
    "lon = 0.0087459\n",
    "\n",
    "ele = 0\n",
    "utm_point = projector.forward(GPSPoint(lat, lon, ele))\n",
    "occupied_lanelets = MapObject.get_all_occupying_lanelets(utm_point.x, utm_point.y)\n",
    "print([ll.id for ll in occupied_lanelets])"
   ]
  },
  {
   "cell_type": "markdown",
   "metadata": {},
   "source": [
    "## Example 2: find occupied lanelet by cartisian coortinates"
   ]
  },
  {
   "cell_type": "code",
   "execution_count": 33,
   "metadata": {},
   "outputs": [
    {
     "name": "stdout",
     "output_type": "stream",
     "text": [
      "[30013, 30014]\n"
     ]
    }
   ],
   "source": [
    "# # example 2.1; only be occupied by Lanelet 30014;\n",
    "# x = 994.773\n",
    "# y = 1017.5\n",
    "\n",
    "# # example 2.2; only be occupied by Lanelet 30013 and 30014;\n",
    "# x = 994.528\n",
    "# y = 1014.61\n",
    "\n",
    "# # example 2.3; little triangle area with no lanelet occupied.\n",
    "# x = 973.589\n",
    "# y = 1004.35\n",
    "\n",
    "occupied_lanelets = MapObject.get_all_occupying_lanelets(x, y)\n",
    "print([ll.id for ll in occupied_lanelets])"
   ]
  }
 ],
 "metadata": {
  "kernelspec": {
   "display_name": "Python 3",
   "language": "python",
   "name": "python3"
  },
  "language_info": {
   "codemirror_mode": {
    "name": "ipython",
    "version": 3
   },
   "file_extension": ".py",
   "mimetype": "text/x-python",
   "name": "python",
   "nbconvert_exporter": "python",
   "pygments_lexer": "ipython3",
   "version": "3.8.10"
  },
  "orig_nbformat": 4
 },
 "nbformat": 4,
 "nbformat_minor": 2
}
